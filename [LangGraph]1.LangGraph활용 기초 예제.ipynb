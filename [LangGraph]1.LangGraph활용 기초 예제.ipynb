{
 "cells": [
  {
   "cell_type": "markdown",
   "metadata": {},
   "source": [
    "# LangGraph Deep Dive: From Theory to Implementation\n",
    "\n",
    "## Overview\n",
    "\n",
    "이 튜토리얼은 LangGraph의 핵심 개념과 실제 구현 방법을 다룹니다. LangGraph는 LLM 기반 애플리케이션을 상태 머신으로 구조화하여 구축할 수 있는 고급 프레임워크입니다.\n",
    "\n",
    "주요목표: StageGraph 구성하기\n",
    "\n",
    "### Prerequisites\n",
    "- Python 3.9+\n",
    "- OpenAI API Key\n",
    "- LangChain 기본 지식\n",
    "\n",
    "## Table of Contents\n",
    "1. [LangGraph vs LangChain](#1-langgraph-vs-langchain)\n",
    "2. [Core Concepts](#2-core-concepts)\n",
    "3. [StateGraph 실습](#3-implementation)\n",
    "\n",
    "---\n",
    "\n",
    "## 1. LangGraph vs LangChain\n",
    "\n",
    "## LangGraph vs LangChain 비교\n",
    "\n",
    "LangGraph는 그래프 기반 아키텍처로 AI 워크플로우를 구축하는 프레임워크로, 명시적인 상태 관리와 세밀한 제어 흐름을 제공합니다. 복잡한 다중 에이전트 시스템과 상태 기반 워크플로우를 모듈화하여 효율적으로 구현할 수 있게 해줍니다.\n",
    "\n",
    "| 특성 | LangGraph | LangChain |\n",
    "|------|-----------|------------|\n",
    "| **아키텍처** | 그래프 기반 (DAG) | 체인 기반 (선형) |\n",
    "| **상태 관리** | 명시적 (Explicit) | 암시적 (Implicit) |\n",
    "| **유스케이스** | 복잡한 워크플로우, 다중 에이전트 시스템 | 단순 체인, RAG 구현 |\n",
    "| **제어 흐름** | 세밀한 제어 가능 (Fine-grained) | 제한된 제어 (Limited) |\n",
    "| **디버깅** | 상태 추적 용이 | 블랙박스적 특성 |\n",
    "\n",
    "## 핵심 기능\n",
    "\n",
    "1. **상태 기반 그래프 구조**: 애플리케이션의 로직을 노드와 엣지로 구성된 그래프로 표현합니다.\n",
    "\n",
    "2. **유연한 상태 관리**: 복잡한 상태를 쉽게 정의하고 관리할 수 있습니다.\n",
    "\n",
    "3. **조건부 라우팅**: 동적인 의사결정 프로세스를 구현할 수 있습니다.\n",
    "\n",
    "4. **체크포인팅**: 그래프 실행 상태를 저장하고 복원할 수 있어 장기 실행 태스크와 오류 복구에 유용합니다.\n",
    "\n",
    "5. **서브그래프 지원**: 복잡한 시스템을 모듈화하여 관리할 수 있습니다.\n",
    "\n",
    "\n",
    "---\n",
    "## 2. Core Concepts\n",
    "\n",
    "LangGraph의 핵심 구성요소는 다음과 같습니다:\n",
    "\n",
    "### 2.1 State\n",
    "\n",
    "| 개념 | 설명 | 특징 |\n",
    "|------|------|------|\n",
    "| **정의** | 그래프 실행 중 공유되는 상태 객체 | TypedDict 또는 Pydantic Model |\n",
    "| **역할** | 노드 간 데이터 공유 및 컨텍스트 유지 | Immutable 업데이트 |\n",
    "| **구조** | Key-Value 페어의 집합 | Type Hints 필수 |\n",
    "\n",
    "### 2.2 Nodes\n",
    "\n",
    "| 개념 | 설명 | 특징 |\n",
    "|------|------|------|\n",
    "| **정의** | 실제 작업을 수행하는 함수 | Pure Function 형태 |\n",
    "| **입력** | Current State | State 타입의 파라미터 |\n",
    "| **출력** | Updated State | State의 부분 업데이트 |\n",
    "| **특성** | Side-effect free | 멱등성(Idempotent) 보장 |\n",
    "\n",
    "### 2.3 Edges\n",
    "\n",
    "| 개념 | 설명 | 특징 |\n",
    "|------|------|------|\n",
    "| **정의** | 노드 간 연결 및 전이 규칙 | 방향성 있는 연결 |\n",
    "| **역할** | 실행 흐름 제어 | 조건부 라우팅 가능 |\n",
    "| **타입** | Normal, Conditional | 상태에 따른 분기 처리 |\n",
    "\n",
    "### 2.4 StateGraph\n",
    "\n",
    "| 개념 | 설명 | 특징 |\n",
    "|------|------|------|\n",
    "| **정의** | 전체 워크플로우를 표현하는 그래프 | DAG 구조 |\n",
    "| **생명주기** | 초기화 → 실행 → 종료 | Superstep 기반 실행 |\n",
    "| **특성** | Deterministic 실행 | 재현 가능한 결과 |\n",
    "\n",
    "---\n",
    "## 3. Implementation\n",
    "\n",
    "이제 실제 구현을 통해 위 개념들을 적용해보겠습니다."
   ]
  },
  {
   "cell_type": "markdown",
   "metadata": {},
   "source": [
    "### 3.1 Environment Setup\n",
    "\n",
    "필요한 패키지를 설치하고 환경을 구성합니다."
   ]
  },
  {
   "cell_type": "code",
   "execution_count": 1,
   "metadata": {},
   "outputs": [],
   "source": [
    "# 필요한 패키지 임포트\n",
    "from typing import Annotated, TypedDict, List\n",
    "from langgraph.graph import StateGraph, START, END\n",
    "from langgraph.graph.message import add_messages\n",
    "from langchain_openai import ChatOpenAI\n",
    "import os\n",
    "import dotenv\n",
    "\n",
    "# 환경변수 로드\n",
    "dotenv.load_dotenv(\".env\")\n",
    "if \"OPENAI_API_KEY\" not in os.environ:\n",
    "    raise EnvironmentError(\"OPENAI_API_KEY must be set in .env file\")"
   ]
  },
  {
   "cell_type": "markdown",
   "metadata": {},
   "source": [
    "### 3.2 State Definition\n",
    "\n",
    "상태 객체를 정의합니다. 여기서는 메시지 이력을 관리하는 간단한 상태를 구현합니다.\n",
    "\n",
    "- `TypedDict`를 사용하여 타입 안정성 확보\n",
    "- `Annotated`를 통한 메타데이터 추가\n",
    "- `add_messages` 어노테이션으로 메시지 누적 로직 자동화"
   ]
  },
  {
   "cell_type": "code",
   "execution_count": 2,
   "metadata": {},
   "outputs": [],
   "source": [
    "class State(TypedDict):\n",
    "    \"\"\"애플리케이션의 상태를 정의하는 클래스\n",
    "    \n",
    "    Attributes:\n",
    "        messages (List): 대화 이력을 저장하는 리스트\n",
    "            - add_messages 어노테이션을 통해 자동 메시지 누적\n",
    "            - 불변성(immutability) 보장을 위해 리스트 복사본 사용\n",
    "    \"\"\"\n",
    "    messages: Annotated[List, add_messages]"
   ]
  },
  {
   "cell_type": "markdown",
   "metadata": {},
   "source": [
    "### 3.3 Node Implementation\n",
    "\n",
    "상태를 처리하는 노드 함수를 구현합니다. 여기서는 간단한 챗봇 노드를 예시로 들겠습니다."
   ]
  },
  {
   "cell_type": "code",
   "execution_count": 3,
   "metadata": {},
   "outputs": [],
   "source": [
    "# LLM 인스턴스 생성\n",
    "llm = ChatOpenAI(\n",
    "    model=\"gpt-4o-mini\",\n",
    "    temperature=0,   # 0~2\n",
    ")\n",
    "\n",
    "def chatbot(state: State) -> dict:\n",
    "    \"\"\"챗봇 노드 함수\n",
    "    \n",
    "    Args:\n",
    "        state (State): 현재 애플리케이션 상태\n",
    "        \n",
    "    Returns:\n",
    "        dict: 업데이트된 상태의 일부 (부분 업데이트)\n",
    "        \n",
    "    Note:\n",
    "        - Pure function: 외부 상태 변경 없음\n",
    "        - Immutable: 입력 상태 직접 수정하지 않음\n",
    "        - Deterministic: 동일 입력 → 동일 출력\n",
    "    \"\"\"\n",
    "    # LLM 호출 및 응답 생성\n",
    "    response = llm.invoke(state[\"messages\"])\n",
    "    \n",
    "    # 부분 상태 업데이트 반환\n",
    "    return {\"messages\": [response]}"
   ]
  },
  {
   "cell_type": "markdown",
   "metadata": {},
   "source": [
    "### 3.4 Graph Construction\n",
    "\n",
    "노드들을 연결하여 전체 그래프를 구성합니다."
   ]
  },
  {
   "cell_type": "code",
   "execution_count": 4,
   "metadata": {},
   "outputs": [],
   "source": [
    "# StateGraph 인스턴스 생성\n",
    "workflow = StateGraph(State)\n",
    "\n",
    "# 노드 추가\n",
    "workflow.add_node(\"chatbot\", chatbot)\n",
    "\n",
    "# 엣지 설정\n",
    "workflow.set_entry_point(\"chatbot\")\n",
    "workflow.add_edge(\"chatbot\", END)\n",
    "\n",
    "# 그래프 컴파일\n",
    "app = workflow.compile()"
   ]
  },
  {
   "cell_type": "markdown",
   "metadata": {},
   "source": [
    "### 3.5 Visualization\n",
    "\n",
    "구성된 그래프를 시각화하여 워크플로우를 검증합니다."
   ]
  },
  {
   "cell_type": "code",
   "execution_count": 5,
   "metadata": {},
   "outputs": [
    {
     "name": "stdout",
     "output_type": "stream",
     "text": [
      "<langgraph.graph.state.StateGraph object at 0x000001DCF9274F50>\n",
      "<langgraph.graph.state.CompiledStateGraph object at 0x000001DCF65EDE50>\n"
     ]
    },
    {
     "data": {
      "image/png": "[encoded data removed]",
      "text/plain": [
       "<IPython.core.display.Image object>"
      ]
     },
     "metadata": {},
     "output_type": "display_data"
    }
   ],
   "source": [
    "from IPython.display import Image, display\n",
    "\n",
    "# Mermaid 형식으로 그래프 시각화\n",
    "print(workflow) # StateGraph\n",
    "print(app) # CompiledStateGraph \n",
    "display(Image(app.get_graph().draw_mermaid_png()))"
   ]
  },
  {
   "cell_type": "markdown",
   "metadata": {},
   "source": [
    "위처럼, **\\_\\_SRART\\_\\_** , 로 시작하고, `chatbot`노드가 존재하고, **\\_\\_END\\_\\_** 로 종료되는 하나의 StateGraph가 생성 및 컴파일된것을 확인할 수 있습니다.\n"
   ]
  },
  {
   "cell_type": "markdown",
   "metadata": {},
   "source": [
    "### 3.6 그래프 실행\n",
    "\n",
    "\n",
    "이제, compile된 그래프는 Runnable Interface이므로, invoke, stream 등이 가능합니다.\n"
   ]
  },
  {
   "cell_type": "code",
   "execution_count": 6,
   "metadata": {},
   "outputs": [
    {
     "name": "stdout",
     "output_type": "stream",
     "text": [
      "\u001b[36;1m\u001b[1;3m[-1:checkpoint]\u001b[0m \u001b[1mState at the end of step -1:\n",
      "\u001b[0m{'messages': []}\n",
      "\u001b[36;1m\u001b[1;3m[0:tasks]\u001b[0m \u001b[1mStarting 1 task for step 0:\n",
      "\u001b[0m- \u001b[32;1m\u001b[1;3m__start__\u001b[0m -> {'messages': [SystemMessage(content='당신은 유용한 챗봇입니다.', additional_kwargs={}, response_metadata={}),\n",
      "              HumanMessage(content='안녕?', additional_kwargs={}, response_metadata={})]}\n",
      "\u001b[36;1m\u001b[1;3m[0:writes]\u001b[0m \u001b[1mFinished step 0 with writes to 1 channel:\n",
      "\u001b[0m- \u001b[33;1m\u001b[1;3mmessages\u001b[0m -> [SystemMessage(content='당신은 유용한 챗봇입니다.', additional_kwargs={}, response_metadata={}),\n",
      " HumanMessage(content='안녕?', additional_kwargs={}, response_metadata={})]\n",
      "\u001b[36;1m\u001b[1;3m[0:checkpoint]\u001b[0m \u001b[1mState at the end of step 0:\n",
      "\u001b[0m{'messages': [SystemMessage(content='당신은 유용한 챗봇입니다.', additional_kwargs={}, response_metadata={}, id='9183fcc3-70b3-4d44-a767-b3bfaddc1393'),\n",
      "              HumanMessage(content='안녕?', additional_kwargs={}, response_metadata={}, id='d55966fe-763b-4897-bb39-04da0a364862')]}\n",
      "\u001b[36;1m\u001b[1;3m[1:tasks]\u001b[0m \u001b[1mStarting 1 task for step 1:\n",
      "\u001b[0m- \u001b[32;1m\u001b[1;3mchatbot\u001b[0m -> {'messages': [SystemMessage(content='당신은 유용한 챗봇입니다.', additional_kwargs={}, response_metadata={}, id='9183fcc3-70b3-4d44-a767-b3bfaddc1393'),\n",
      "              HumanMessage(content='안녕?', additional_kwargs={}, response_metadata={}, id='d55966fe-763b-4897-bb39-04da0a364862')]}\n",
      "\u001b[36;1m\u001b[1;3m[1:writes]\u001b[0m \u001b[1mFinished step 1 with writes to 1 channel:\n",
      "\u001b[0m- \u001b[33;1m\u001b[1;3mmessages\u001b[0m -> [AIMessage(content='안녕하세요! 어떻게 도와드릴까요?', additional_kwargs={'refusal': None}, response_metadata={'token_usage': {'completion_tokens': 11, 'prompt_tokens': 26, 'total_tokens': 37, 'completion_tokens_details': {'accepted_prediction_tokens': 0, 'audio_tokens': 0, 'reasoning_tokens': 0, 'rejected_prediction_tokens': 0}, 'prompt_tokens_details': {'audio_tokens': 0, 'cached_tokens': 0}}, 'model_name': 'gpt-4o-mini-2024-07-18', 'system_fingerprint': 'fp_3267753c5d', 'finish_reason': 'stop', 'logprobs': None}, id='run-e5be725d-366f-40e3-8937-4055b3593922-0', usage_metadata={'input_tokens': 26, 'output_tokens': 11, 'total_tokens': 37, 'input_token_details': {'audio': 0, 'cache_read': 0}, 'output_token_details': {'audio': 0, 'reasoning': 0}})]\n",
      "\u001b[36;1m\u001b[1;3m[1:checkpoint]\u001b[0m \u001b[1mState at the end of step 1:\n",
      "\u001b[0m{'messages': [SystemMessage(content='당신은 유용한 챗봇입니다.', additional_kwargs={}, response_metadata={}, id='9183fcc3-70b3-4d44-a767-b3bfaddc1393'),\n",
      "              HumanMessage(content='안녕?', additional_kwargs={}, response_metadata={}, id='d55966fe-763b-4897-bb39-04da0a364862'),\n",
      "              AIMessage(content='안녕하세요! 어떻게 도와드릴까요?', additional_kwargs={'refusal': None}, response_metadata={'token_usage': {'completion_tokens': 11, 'prompt_tokens': 26, 'total_tokens': 37, 'completion_tokens_details': {'accepted_prediction_tokens': 0, 'audio_tokens': 0, 'reasoning_tokens': 0, 'rejected_prediction_tokens': 0}, 'prompt_tokens_details': {'audio_tokens': 0, 'cached_tokens': 0}}, 'model_name': 'gpt-4o-mini-2024-07-18', 'system_fingerprint': 'fp_3267753c5d', 'finish_reason': 'stop', 'logprobs': None}, id='run-e5be725d-366f-40e3-8937-4055b3593922-0', usage_metadata={'input_tokens': 26, 'output_tokens': 11, 'total_tokens': 37, 'input_token_details': {'audio': 0, 'cache_read': 0}, 'output_token_details': {'audio': 0, 'reasoning': 0}})]}\n"
     ]
    }
   ],
   "source": [
    "from langchain_core.messages import HumanMessage, SystemMessage\n",
    "from langchain_core.runnables.config import RunnableConfig\n",
    "\n",
    "# LangChain의 message 클래스 사용\n",
    "result = app.invoke({\n",
    "    \"messages\": [\n",
    "        SystemMessage(content=\"당신은 유용한 챗봇입니다.\"),\n",
    "        HumanMessage(content=\"안녕?\")\n",
    "    ]},\n",
    "    RunnableConfig(),\n",
    "    debug=True\n",
    ")"
   ]
  },
  {
   "cell_type": "markdown",
   "metadata": {},
   "source": [
    "> 지금까지는, 상당히 단순한 직렬적인 Graph를 예시로 구성하였습니다. 이제 하나의 Tool을 설정해보겠습니다.\n",
    "또한, add_messages메서드로 인해 state의 messages가 추가되는것을 확인할 수 있습니다.\n",
    "\n",
    "---"
   ]
  }
 ],
 "metadata": {
  "kernelspec": {
   "display_name": "Python 3",
   "language": "python",
   "name": "python3"
  },
  "language_info": {
   "codemirror_mode": {
    "name": "ipython",
    "version": 3
   },
   "file_extension": ".py",
   "mimetype": "text/x-python",
   "name": "python",
   "nbconvert_exporter": "python",
   "pygments_lexer": "ipython3",
   "version": "3.12.0"
  }
 },
 "nbformat": 4,
 "nbformat_minor": 2
}
